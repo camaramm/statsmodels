{
 "cells": [
  {
   "cell_type": "markdown",
   "metadata": {},
   "source": [
    "# Seasonal-Trend decomposition using LOESS (STL)\n",
    "\n",
    "This note book illustrates the use of `STL` to decompose a time series into three components: trend, season(al) and residual. STL uses LOESS (locally estimated scatterplot smoothing) to extract smooths estimates of the three components.  The key inputs into `STL` are:\n",
    "\n",
    "* `season` - The length of the seasonal smoother. Must be odd.\n",
    "* `trend` - The length of the trend smoother, usually around 150% of `season`.  Must be odd and larger than `season`.\n",
    "* `low_pass` - The length of the low-pass estimation window, usually the smallest odd number larger than the periodicity of the data.\n",
    "\n",
    "First we import the required packages, prepare the graphics environment, and prepare the data. "
   ]
  },
  {
   "cell_type": "code",
   "execution_count": null,
   "metadata": {},
   "outputs": [],
   "source": [
    "import matplotlib.pyplot as plt\n",
    "import pandas as pd\n",
    "import seaborn as sns\n",
    "from pandas.plotting import register_matplotlib_converters\n",
    "\n",
    "register_matplotlib_converters()\n",
    "sns.set_style(\"darkgrid\")"
   ]
  },
  {
   "cell_type": "code",
   "execution_count": null,
   "metadata": {},
   "outputs": [],
   "source": [
    "plt.rc(\"figure\", figsize=(16, 12))\n",
    "plt.rc(\"font\", size=13)"
   ]
  },
  {
   "cell_type": "markdown",
   "metadata": {},
   "source": [
    "## Atmospheric CO2\n",
    "\n",
    "The example in Cleveland, Cleveland, McRae, and Terpenning (1990) uses CO2 data, which is in the list below.  This monthly data (January 1959 to December 1987) has a clear trend and seasonality across the sample. "
   ]
  },
  {
   "cell_type": "code",
   "execution_count": null,
   "metadata": {},
   "outputs": [],
   "source": [
    "co2 = pd.read_csv(\n",
    "    \"https://raw.githubusercontent.com/statsmodels/smdatasets/refs/heads/main/data/stl-decomposition/co2.csv\",\n",
    "    parse_dates=True,\n",
    "    index_col=0,\n",
    ").iloc[:, 0]\n",
    "co2.describe()"
   ]
  },
  {
   "cell_type": "markdown",
   "metadata": {},
   "source": [
    "The decomposition requires 1 input, the data series. If the data series does not have a frequency, then you must also specify `period`. The default value for `seasonal` is 7, and so should also be changed in most applications."
   ]
  },
  {
   "cell_type": "code",
   "execution_count": null,
   "metadata": {},
   "outputs": [],
   "source": [
    "from statsmodels.tsa.seasonal import STL\n",
    "\n",
    "stl = STL(co2, seasonal=13)\n",
    "res = stl.fit()\n",
    "fig = res.plot()"
   ]
  },
  {
   "cell_type": "markdown",
   "metadata": {},
   "source": [
    "## Robust Fitting\n",
    "Setting `robust` uses a data-dependent weighting function that re-weights data when estimating the LOESS (and so is using LOWESS). Using robust estimation allows the model to tolerate larger errors that are visible on the bottom plot.\n",
    "\n",
    "Here we use a series the measures the production of electrical equipment in the EU."
   ]
  },
  {
   "cell_type": "code",
   "execution_count": null,
   "metadata": {},
   "outputs": [],
   "source": [
    "from statsmodels.datasets import elec_equip as ds\n",
    "\n",
    "elec_equip = ds.load().data.iloc[:, 0]"
   ]
  },
  {
   "cell_type": "markdown",
   "metadata": {},
   "source": [
    "Next, we estimate the model with and without robust weighting.  The difference is minor and is most pronounced during the financial crisis of 2008. The non-robust estimate places equal weights on all observations and so produces smaller errors, on average.  The weights vary between 0 and 1."
   ]
  },
  {
   "cell_type": "code",
   "execution_count": null,
   "metadata": {},
   "outputs": [],
   "source": [
    "def add_stl_plot(fig, res, legend):\n",
    "    \"\"\"Add 3 plots from a second STL fit\"\"\"\n",
    "    axs = fig.get_axes()\n",
    "    comps = [\"trend\", \"seasonal\", \"resid\"]\n",
    "    for ax, comp in zip(axs[1:], comps):\n",
    "        series = getattr(res, comp)\n",
    "        if comp == \"resid\":\n",
    "            ax.plot(series, marker=\"o\", linestyle=\"none\")\n",
    "        else:\n",
    "            ax.plot(series)\n",
    "            if comp == \"trend\":\n",
    "                ax.legend(legend, frameon=False)\n",
    "\n",
    "\n",
    "stl = STL(elec_equip, period=12, robust=True)\n",
    "res_robust = stl.fit()\n",
    "fig = res_robust.plot()\n",
    "res_non_robust = STL(elec_equip, period=12, robust=False).fit()\n",
    "add_stl_plot(fig, res_non_robust, [\"Robust\", \"Non-robust\"])"
   ]
  },
  {
   "cell_type": "code",
   "execution_count": null,
   "metadata": {},
   "outputs": [],
   "source": [
    "fig = plt.figure(figsize=(16, 5))\n",
    "lines = plt.plot(res_robust.weights, marker=\"o\", linestyle=\"none\")\n",
    "ax = plt.gca()\n",
    "xlim = ax.set_xlim(elec_equip.index[0], elec_equip.index[-1])"
   ]
  },
  {
   "cell_type": "markdown",
   "metadata": {},
   "source": [
    "## LOESS degree\n",
    "The default configuration estimates the LOESS model with both a constant and a trend.  This can be changed to only include a constant by setting `COMPONENT_deg` to 0. Here the degree makes little difference except in the trend around the financial crisis of 2008."
   ]
  },
  {
   "cell_type": "code",
   "execution_count": null,
   "metadata": {},
   "outputs": [],
   "source": [
    "stl = STL(\n",
    "    elec_equip, period=12, seasonal_deg=0, trend_deg=0, low_pass_deg=0, robust=True\n",
    ")\n",
    "res_deg_0 = stl.fit()\n",
    "fig = res_robust.plot()\n",
    "add_stl_plot(fig, res_deg_0, [\"Degree 1\", \"Degree 0\"])"
   ]
  },
  {
   "cell_type": "markdown",
   "metadata": {},
   "source": [
    "## Performance\n",
    "Three options can be used to reduce the computational cost of the STL decomposition:\n",
    "\n",
    "* `seasonal_jump`\n",
    "* `trend_jump`\n",
    "* `low_pass_jump`\n",
    "\n",
    "When these are non-zero, the LOESS for component `COMPONENT` is only estimated ever `COMPONENT_jump` observations, and linear interpolation is used between points. These values should not normally be more than 10-20% of the size of `seasonal`, `trend` or `low_pass`, respectively. \n",
    "\n",
    "The example below shows how these can reduce the computational cost by a factor of 15 using simulated data with both a low-frequency cosinusoidal trend and a sinusoidal seasonal pattern."
   ]
  },
  {
   "cell_type": "code",
   "execution_count": null,
   "metadata": {},
   "outputs": [],
   "source": [
    "import numpy as np\n",
    "\n",
    "rs = np.random.RandomState(0xA4FD94BC)\n",
    "tau = 2000\n",
    "t = np.arange(tau)\n",
    "period = int(0.05 * tau)\n",
    "seasonal = period + ((period % 2) == 0)  # Ensure odd\n",
    "e = 0.25 * rs.standard_normal(tau)\n",
    "y = np.cos(t / tau * 2 * np.pi) + 0.25 * np.sin(t / period * 2 * np.pi) + e\n",
    "plt.plot(y)\n",
    "plt.title(\"Simulated Data\")\n",
    "xlim = plt.gca().set_xlim(0, tau)"
   ]
  },
  {
   "cell_type": "markdown",
   "metadata": {},
   "source": [
    "First, the base line model is estimated with all jumps equal to 1. "
   ]
  },
  {
   "cell_type": "code",
   "execution_count": null,
   "metadata": {},
   "outputs": [],
   "source": [
    "mod = STL(y, period=period, seasonal=seasonal)\n",
    "%timeit mod.fit()\n",
    "res = mod.fit()\n",
    "fig = res.plot(observed=False, resid=False)"
   ]
  },
  {
   "cell_type": "markdown",
   "metadata": {},
   "source": [
    "The jumps are all set to 15% of their window length. Limited linear interpolation makes little difference to the fit of the model."
   ]
  },
  {
   "cell_type": "code",
   "execution_count": null,
   "metadata": {},
   "outputs": [],
   "source": [
    "low_pass_jump = seasonal_jump = int(0.15 * (period + 1))\n",
    "trend_jump = int(0.15 * 1.5 * (period + 1))\n",
    "mod = STL(\n",
    "    y,\n",
    "    period=period,\n",
    "    seasonal=seasonal,\n",
    "    seasonal_jump=seasonal_jump,\n",
    "    trend_jump=trend_jump,\n",
    "    low_pass_jump=low_pass_jump,\n",
    ")\n",
    "%timeit mod.fit()\n",
    "res = mod.fit()\n",
    "fig = res.plot(observed=False, resid=False)"
   ]
  },
  {
   "cell_type": "markdown",
   "metadata": {},
   "source": [
    "## Forecasting with STL\n",
    "\n",
    "``STLForecast`` simplifies the process of using STL to remove seasonalities and then using a standard time-series model to forecast the trend and cyclical components. \n",
    "\n",
    "Here we use STL to handle the seasonality and then an ARIMA(1,1,0) to model the deseasonalized data. The seasonal component is forecast from the find full cycle where \n",
    "\n",
    "$$E[S_{T+h}|\\mathcal{F}_T]=\\hat{S}_{T-k}$$\n",
    "\n",
    "where $k= m - h + m \\lfloor \\frac{h-1}{m} \\rfloor$. The forecast automatically adds the seasonal component forecast to the ARIMA forecast."
   ]
  },
  {
   "cell_type": "code",
   "execution_count": null,
   "metadata": {},
   "outputs": [],
   "source": [
    "from statsmodels.tsa.arima.model import ARIMA\n",
    "from statsmodels.tsa.forecasting.stl import STLForecast\n",
    "\n",
    "elec_equip.index.freq = elec_equip.index.inferred_freq\n",
    "stlf = STLForecast(elec_equip, ARIMA, model_kwargs=dict(order=(1, 1, 0), trend=\"t\"))\n",
    "stlf_res = stlf.fit()\n",
    "\n",
    "forecast = stlf_res.forecast(24)\n",
    "plt.plot(elec_equip)\n",
    "plt.plot(forecast)\n",
    "plt.show()"
   ]
  },
  {
   "cell_type": "markdown",
   "metadata": {},
   "source": [
    "``summary`` contains information about both the time-series model and the STL decomposition."
   ]
  },
  {
   "cell_type": "code",
   "execution_count": null,
   "metadata": {},
   "outputs": [],
   "source": [
    "print(stlf_res.summary())"
   ]
  }
 ],
 "metadata": {
  "kernelspec": {
   "display_name": "Python 3 (ipykernel)",
   "language": "python",
   "name": "python3"
  },
  "language_info": {
   "codemirror_mode": {
    "name": "ipython",
    "version": 3
   },
   "file_extension": ".py",
   "mimetype": "text/x-python",
   "name": "python",
   "nbconvert_exporter": "python",
   "pygments_lexer": "ipython3",
   "version": "3.12.9"
  }
 },
 "nbformat": 4,
 "nbformat_minor": 4
}
